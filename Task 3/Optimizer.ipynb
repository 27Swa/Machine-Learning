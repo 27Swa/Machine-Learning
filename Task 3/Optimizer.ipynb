{
 "cells": [
  {
   "cell_type": "code",
   "execution_count": 1,
   "id": "c13965bb-851f-4659-8d2d-3ee37f9d7624",
   "metadata": {},
   "outputs": [],
   "source": [
    "import numpy as np\n",
    "import pandas as pd\n",
    "import matplotlib.pyplot as plt\n",
    "import seaborn as sns"
   ]
  },
  {
   "cell_type": "code",
   "execution_count": 2,
   "id": "9b28a8ef-05e5-493c-91b2-63712c942013",
   "metadata": {},
   "outputs": [],
   "source": [
    "def batch_gradient_descent(epochs,rate,x,y):\n",
    "    c=0\n",
    "    m=0\n",
    "    n = len(x)\n",
    "    w = np.zeros(x.shape(-1))\n",
    "    for i in range(epochs):\n",
    "            y_pred = x.dot(w)\n",
    "            g = (-2/ n) * x.T.dot((y - y_pred)) \n",
    "            w = w - rate * g\n",
    "    return w"
   ]
  },
  {
   "cell_type": "code",
   "execution_count": 3,
   "id": "2647c271-c1f1-4e9f-b5ea-5ff03ec20058",
   "metadata": {},
   "outputs": [],
   "source": [
    "def mini_stochastic_gradient_descent(epochs,rate,x,y,s):\n",
    "    w = np.zeros(x.shape(-1))\n",
    "    for i in range(epochs):\n",
    "        indicies = np.random.randint(0, len(X), s)\n",
    "        Xnew = X[indicies]\n",
    "        ynew = y[indicies]\n",
    "        y_pred = Xnew.dot(w) \n",
    "        g = (-2/s) * Xnew.T.dot((y - y_pred))\n",
    "        w = w - rate * g  \n",
    "    return w"
   ]
  },
  {
   "cell_type": "code",
   "execution_count": 4,
   "id": "89e2a285-ad0e-408f-9b4a-7dde5c16f083",
   "metadata": {},
   "outputs": [],
   "source": [
    "def momentum(epochs,rate,x,y,s,beta):\n",
    "    w = np.zeros(s+1)\n",
    "    v = np.zeros(s+1)\n",
    "    for i in range(epochs):\n",
    "        indicies = np.random.randint(0, len(X), s)\n",
    "        Xnew = X[indicies]\n",
    "        ynew = y[indicies]\n",
    "        y_pred = Xnew.dot(w)\n",
    "        g = (-2/s) * Xnew.T.dot((y - y_pred))\n",
    "        v = v * beta + rate * g\n",
    "        w = w - v \n",
    "    return w"
   ]
  },
  {
   "cell_type": "code",
   "execution_count": null,
   "id": "7b0aaea2-0068-4342-890e-209f87ffd024",
   "metadata": {},
   "outputs": [],
   "source": []
  },
  {
   "cell_type": "code",
   "execution_count": null,
   "id": "48324350-eb65-4d68-a5d6-4e5987772132",
   "metadata": {},
   "outputs": [],
   "source": []
  },
  {
   "cell_type": "code",
   "execution_count": null,
   "id": "b3c6e259-451a-4de1-ab4c-46cad9a6c1b2",
   "metadata": {},
   "outputs": [],
   "source": []
  },
  {
   "cell_type": "code",
   "execution_count": null,
   "id": "62d2a730-6e4f-4b32-b3e3-199e0150ba67",
   "metadata": {},
   "outputs": [],
   "source": []
  },
  {
   "cell_type": "code",
   "execution_count": null,
   "id": "f9f087c9-12af-4027-853e-1a795e9f1650",
   "metadata": {},
   "outputs": [],
   "source": []
  },
  {
   "cell_type": "code",
   "execution_count": null,
   "id": "2cfd6678-ea68-401c-a60a-ffe31a0de70d",
   "metadata": {},
   "outputs": [],
   "source": []
  },
  {
   "cell_type": "code",
   "execution_count": null,
   "id": "0f843e43-2441-4a59-9840-8d49d993d072",
   "metadata": {},
   "outputs": [],
   "source": []
  },
  {
   "cell_type": "code",
   "execution_count": null,
   "id": "75d1eee0-785b-40d4-ad13-d21cf1f922ec",
   "metadata": {},
   "outputs": [],
   "source": []
  },
  {
   "cell_type": "code",
   "execution_count": null,
   "id": "8fad9879-d2ce-44d7-a4bb-49ca87948e97",
   "metadata": {},
   "outputs": [],
   "source": []
  },
  {
   "cell_type": "code",
   "execution_count": null,
   "id": "9fd81e77-dcf5-4b1b-99cb-fec9dbd4c62b",
   "metadata": {},
   "outputs": [],
   "source": []
  },
  {
   "cell_type": "code",
   "execution_count": null,
   "id": "f41c56f3-af73-4ea9-9514-e4457f94ddb4",
   "metadata": {},
   "outputs": [],
   "source": []
  },
  {
   "cell_type": "code",
   "execution_count": null,
   "id": "0f2af134-1d5c-411e-a45a-adb6112b8a4f",
   "metadata": {},
   "outputs": [],
   "source": []
  },
  {
   "cell_type": "code",
   "execution_count": null,
   "id": "987bbe2a-5ddb-4daa-9918-97a57f5f19d8",
   "metadata": {},
   "outputs": [],
   "source": []
  }
 ],
 "metadata": {
  "kernelspec": {
   "display_name": "Python [conda env:base] *",
   "language": "python",
   "name": "conda-base-py"
  },
  "language_info": {
   "codemirror_mode": {
    "name": "ipython",
    "version": 3
   },
   "file_extension": ".py",
   "mimetype": "text/x-python",
   "name": "python",
   "nbconvert_exporter": "python",
   "pygments_lexer": "ipython3",
   "version": "3.11.5"
  }
 },
 "nbformat": 4,
 "nbformat_minor": 5
}
